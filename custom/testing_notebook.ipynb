{
 "cells": [
  {
   "cell_type": "code",
   "execution_count": 154,
   "metadata": {},
   "outputs": [],
   "source": [
    "import numpy as np\n",
    "# import scipy as np"
   ]
  },
  {
   "cell_type": "code",
   "execution_count": 155,
   "metadata": {},
   "outputs": [],
   "source": [
    "\"\"\" \n",
    "    General data structures like twists and screws\n",
    "    @author Wil Louis Rothman\n",
    "    November 2024 - December 2024\n",
    "\"\"\"\n",
    "\n",
    "import numpy as np\n",
    "\n",
    "class Twist:\n",
    "    \"\"\"\n",
    "        General twist as defined in EECS C106A.\n",
    "\n",
    "        >>> v, omega = [3, 4, 5], [pi, pi/2, 0]\n",
    "        >>> xi = Twist(v, omega)\n",
    "        >>> xi\n",
    "        Twist(v = [3, 4, 5], ω = [pi, pi/2, 0])\n",
    "        >>> 2 * xi.as_array()\n",
    "        np.array([6, 8, 10, 2pi, pi, 0])\n",
    "        >>> 2 * xi.vector # same as previous\n",
    "        np.array([6, 8, 10, 2pi, pi, 0])\n",
    "\n",
    "    \"\"\"\n",
    "    def __init__(self, linear_velocity, angular_velocity):\n",
    "        linear_velocity, angular_velocity = list(linear_velocity), list(angular_velocity)\n",
    "\n",
    "        assert len(linear_velocity) == 3 and len(angular_velocity) == 3, \\\n",
    "            f\"linear and angular velocities must be 3D vectors, \\\n",
    "                instead got {linear_velocity} (length {len(linear_velocity)}) \\\n",
    "                    and {angular_velocity} (length {len(angular_velocity)})\"\n",
    "        \n",
    "        self.vector = np.array(list(linear_velocity) + list(angular_velocity))\n",
    "\n",
    "        assert np.issubdtype(self.vector.dtype, np.number), \\\n",
    "            \"linear and angular velocities must be representable by a \\\n",
    "                numerical value\"\n",
    "        \n",
    "    def __repr__(self):\n",
    "        return f\"Twist(v = {self.vector[:3]}, ω = {self.vector[3:]})\"\n",
    "\n",
    "    def as_array(self):\n",
    "        return self.vector\n",
    "    \n",
    "\n",
    "class Revolute(Twist):\n",
    "    \"\"\"\n",
    "        Pure rotation as defined in EECS C106A.\n",
    "        xi = [-ω x q    ω]^T\n",
    "        where omega := angular velocity\n",
    "        and       q := some point on rotation axis\n",
    "    \"\"\"\n",
    "    def __init__(self, omega, q):\n",
    "        super().__init__(-np.cross(omega, q), omega)\n",
    "\n",
    "class Prismatic(Twist):\n",
    "    \"\"\"\n",
    "        Pure translation as defined in EECS C106A.\n",
    "        xi = [v     0]^T\n",
    "        where v := linear velocity\n",
    "    \"\"\"\n",
    "    def __init__(self, v):\n",
    "        super().__init__(v, [0, 0, 0])\n",
    "\n",
    "class GeneralScrew(Twist):\n",
    "    \"\"\"\n",
    "        General screw motion as defined in EECS C106A.\n",
    "        xi = [-ω x q + hω   ω]^T\n",
    "        where h := is pitch\n",
    "    \"\"\"\n",
    "    def __init__(self, omega, q, h):\n",
    "        super().__init__(-np.cross(omega, q) + h * omega, omega)"
   ]
  },
  {
   "cell_type": "code",
   "execution_count": 156,
   "metadata": {},
   "outputs": [
    {
     "data": {
      "text/plain": [
       "Twist(v = [3. 4. 5.], ω = [3.14159265 1.57079633 0.        ])"
      ]
     },
     "execution_count": 156,
     "metadata": {},
     "output_type": "execute_result"
    }
   ],
   "source": [
    "v, omega = [3, 4, 5], [np.pi, np.pi/2, 0]\n",
    "xi = Twist(v, omega)\n",
    "xi"
   ]
  },
  {
   "cell_type": "code",
   "execution_count": 157,
   "metadata": {},
   "outputs": [
    {
     "data": {
      "text/plain": [
       "Twist(v = [-0.         -0.          1.57079633], ω = [0.         1.57079633 0.        ])"
      ]
     },
     "execution_count": 157,
     "metadata": {},
     "output_type": "execute_result"
    }
   ],
   "source": [
    "Revolute([0, np.pi / 2, 0], [1, 0, 0])"
   ]
  },
  {
   "cell_type": "code",
   "execution_count": 158,
   "metadata": {},
   "outputs": [
    {
     "data": {
      "text/plain": [
       "Twist(v = [3 4 5], ω = [0 0 0])"
      ]
     },
     "execution_count": 158,
     "metadata": {},
     "output_type": "execute_result"
    }
   ],
   "source": [
    "Prismatic([3, 4, 5])"
   ]
  },
  {
   "cell_type": "code",
   "execution_count": 159,
   "metadata": {},
   "outputs": [
    {
     "data": {
      "text/plain": [
       "Twist(v = [0.         1.57079633 0.        ], ω = [0.         1.57079633 0.        ])"
      ]
     },
     "execution_count": 159,
     "metadata": {},
     "output_type": "execute_result"
    }
   ],
   "source": [
    "GeneralScrew([0, np.pi / 2, 0], [0, 1, 0], 1)"
   ]
  },
  {
   "cell_type": "markdown",
   "metadata": {},
   "source": [
    "Repulsion model"
   ]
  },
  {
   "cell_type": "code",
   "execution_count": 160,
   "metadata": {},
   "outputs": [],
   "source": [
    "class Pole:\n",
    "    \"\"\"\n",
    "        Represents the pole. We are given two (unequal) points of the pole\n",
    "    \"\"\"\n",
    "    def __init__(self, q_pole1, q_pole2):\n",
    "        q_pole1, q_pole2 = list(q_pole1), list(q_pole2)\n",
    "        assert len(q_pole1) == 3 and len(q_pole2) == 3, f\"q_pole1 and q_pole2 must be 3D coordinates but instead got q1: {q_pole1} and q2: {q_pole2}\"\n",
    "        assert q_pole1 != q_pole2, f\"Cannot define pole line as q1 = q2 = {q_pole1}\"\n",
    "        self.q1, self.q2 = np.array(q_pole1), np.array(q_pole2)\n",
    "\n",
    "    def dist(self, p):\n",
    "        \"\"\" Outputs distance between the line representing the pole and 3D coordinate vector p \"\"\"\n",
    "        v = self.q2 - self.q1\n",
    "        w = p - self.q1\n",
    "        return np.linalg.norm(np.cross(w, v)) / np.linalg.norm(v)"
   ]
  },
  {
   "cell_type": "code",
   "execution_count": 161,
   "metadata": {},
   "outputs": [
    {
     "data": {
      "text/plain": [
       "np.float64(1.4142135623730951)"
      ]
     },
     "execution_count": 161,
     "metadata": {},
     "output_type": "execute_result"
    }
   ],
   "source": [
    "pole = Pole([0, 0, 0], [0, 0, 1])\n",
    "pole.dist([1, 1, 1])"
   ]
  },
  {
   "cell_type": "code",
   "execution_count": 162,
   "metadata": {},
   "outputs": [
    {
     "name": "stdout",
     "output_type": "stream",
     "text": [
      "Requirement already satisfied: scipy in c:\\users\\wil\\ee106a-final\\venv\\lib\\site-packages (1.14.1)\n",
      "Requirement already satisfied: numpy<2.3,>=1.23.5 in c:\\users\\wil\\ee106a-final\\venv\\lib\\site-packages (from scipy) (2.1.3)\n"
     ]
    },
    {
     "name": "stderr",
     "output_type": "stream",
     "text": [
      "WARNING: You are using pip version 21.1.2; however, version 24.3.1 is available.\n",
      "You should consider upgrading via the 'C:\\Users\\Wil\\ee106a-final\\venv\\Scripts\\python.exe -m pip install --upgrade pip' command.\n"
     ]
    }
   ],
   "source": [
    "!pip install scipy"
   ]
  },
  {
   "cell_type": "code",
   "execution_count": 185,
   "metadata": {},
   "outputs": [],
   "source": [
    "\"\"\"\n",
    "    Underlying optimization model. See `../formulas.tex` for more information.\n",
    "    @author Wil Louis Rothman\n",
    "    November 2024 - December 2024\n",
    "\"\"\"\n",
    "\n",
    "import numpy as np\n",
    "import scipy as sp\n",
    "from scipy.stats import norm\n",
    "\n",
    "from twists import *\n",
    "\n",
    "\n",
    "sample_size = 500 # the number of standard normal samples to take of the pole to calculate repulsion\n",
    "\n",
    "class Pole:\n",
    "    \"\"\"\n",
    "        Represents the pole. We are given two (unequal) points of the pole\n",
    "    \"\"\"\n",
    "    def __init__(self, q_pole1, q_pole2):\n",
    "        q_pole1, q_pole2 = list(q_pole1), list(q_pole2)\n",
    "        assert len(q_pole1) == 3 and len(q_pole2) == 3, f\"q_pole1 and q_pole2 must be 3D coordinates but instead got q1: {q_pole1} and q2: {q_pole2}\"\n",
    "        assert q_pole1 != q_pole2, f\"Cannot define pole line as q1 = q2 = {q_pole1}\"\n",
    "        self.q1, self.q2 = np.array(q_pole1), np.array(q_pole2)\n",
    "        self.v = self.q2 - self.q1\n",
    "\n",
    "    def dist(self, p):\n",
    "        \"\"\" Outputs distance between the line representing the pole and 3D coordinate vector p \"\"\"\n",
    "        w = p - self.q1\n",
    "        return np.linalg.norm(np.cross(w, self.v)) / np.linalg.norm(self.v)\n",
    "    \n",
    "    def projection(self, p):\n",
    "        \"\"\" Gets the projection (i.e. closest point) of p to the line \"\"\"\n",
    "        w = p - self.q1\n",
    "        v_dot_v = np.dot(self.v, self.v)\n",
    "        \n",
    "        # Ensure no division by zero\n",
    "        if np.isclose(v_dot_v, 0):\n",
    "            raise ValueError(\"Degenerate pole: the direction vector has near-zero magnitude.\")\n",
    "        \n",
    "        projection_factor = np.dot(w, self.v) / v_dot_v\n",
    "        return self.q1 + projection_factor * self.v\n",
    "\n",
    "    \n",
    "    def get_sample_points(self, x_ef, sample_size):\n",
    "        \"\"\" Get samples of points for repulsion (Monte Carlo integration) \"\"\"\n",
    "        self.projection(x_ef)\n",
    "        samples = norm.rvs(loc=0, scale=1, size=sample_size) # Standard normal distribution\n",
    "        \n",
    "        p_vector = np.array([]) # the calculated sample points \n",
    "        for sample in samples:\n",
    "            v_norm = np.linalg.norm(self.v)\n",
    "            p_i = self.q1 + sample * v_norm\n",
    "            p_vector = np.append(p_vector, p_i)\n",
    "        return p_vector\n",
    "\n",
    "\n",
    "class RepulsionModel:\n",
    "    def __init__(self, pole, x_ef, sample_size, k):\n",
    "        x_ef = list(x_ef)\n",
    "        assert len(x_ef) == 3, f\"len_ef must be 3 instead got {x_ef}\"\n",
    "        assert isinstance(pole, Pole), f\"type of pole must be Pole, got {type(pole)}.\"\n",
    "\n",
    "        self.pole = pole \n",
    "        self.x_ef = np.array(x_ef)\n",
    "        self.sample_size = sample_size\n",
    "        self.k = k\n",
    "\n",
    "        # Get r and r_hat values\n",
    "        r_vector, r_hat_vector = self.get_r_values()\n",
    "\n",
    "        # Compute total repulsion force as a 3D vector\n",
    "        self.repulsion_force = np.zeros(3)  # Initialize as vector\n",
    "        for i in range(len(r_vector)):\n",
    "            r_i, r_hat_i = r_vector[i], r_hat_vector[i]\n",
    "\n",
    "            if r_i > 0:  # Avoid division by zero\n",
    "                repulsion_i = (self.k / r_i**2) * r_hat_i\n",
    "                self.repulsion_force += repulsion_i\n",
    "\n",
    "\n",
    "\n",
    "\n",
    "    def get_r_values(self):\n",
    "        \"\"\" \n",
    "            Calculate repulsion from the pole from the pole at a variety of points, \n",
    "            mostly centered around the closest point on the line to the EF\n",
    "\n",
    "            @returns r_values, r_hat_values \n",
    "        \"\"\"\n",
    "        p_vector = self.pole.get_sample_points(self.x_ef, self.sample_size)\n",
    "\n",
    "        r_vector = np.array([])  # r_i = ||x_ef - p_i||\n",
    "        r_hat_vector = np.array([]) # (r_hat)_i = (x_ef - p_i) / ||x_ef - p_i||\n",
    "        for p_i in p_vector:\n",
    "            r_vector = np.append(r_vector, np.linalg.norm(self.x_ef - p_i))\n",
    "            r_hat_vector = np.append(r_hat_vector, (self.x_ef - p_i) / np.linalg.norm(self.x_ef - p_i))\n",
    "\n",
    "        return r_vector, r_hat_vector\n",
    "\n",
    "\n"
   ]
  },
  {
   "cell_type": "code",
   "execution_count": 186,
   "metadata": {},
   "outputs": [
    {
     "name": "stdout",
     "output_type": "stream",
     "text": [
      "vector(np.float64(-7.382932209293616), np.float64(-2.171016031103714), np.float64(-6.6521341721898235)), (np.float64(-40.816489279105866), np.float64(-40.816489279105866), np.float64(-40.816489279105866)))\n"
     ]
    }
   ],
   "source": [
    "x_ef = random_triple()\n",
    "pole = Pole([0, 0, 0], [0, 0, 10])  # Pole along the z-axis\n",
    "repulsion_model = RepulsionModel(pole, x_ef, sample_size=5000, k=1)\n",
    "force = repulsion_model.repulsion_force\n",
    "print(f\"vector{tuple(x_ef)}, {tuple(repulsion_model.repulsion_force)})\")\n"
   ]
  },
  {
   "cell_type": "code",
   "execution_count": 187,
   "metadata": {},
   "outputs": [
    {
     "name": "stdout",
     "output_type": "stream",
     "text": [
      "vector((-0.77, -9.02, -5.3), (-24.28, -24.28, -24.28))\n",
      "vector((-0.02, 6.57, -1.55), (8.35, 8.35, 8.35))\n",
      "vector((-8.35, 6.51, -6.42), (-5.83, -5.83, -5.83))\n",
      "vector((1.21, 0.47, -9.81), (-8.67, -8.67, -8.67))\n",
      "vector((7.1, 1.89, -2.17), (13.0, 13.0, 13.0))\n",
      "vector((-3.32, 7.13, 0.78), (6.44, 6.44, 6.44))\n",
      "vector((-5.77, 6.43, -2.35), (-1.96, -1.96, -1.96))\n",
      "vector((-8.92, 2.51, -2.88), (-11.75, -11.75, -11.75))\n",
      "vector((4.5, -5.61, -5.3), (-9.52, -9.52, -9.52))\n",
      "vector((2.05, 0.26, -4.64), (-4.4, -4.4, -4.4))\n",
      "vector((-0.66, -3.18, -7.23), (-28.2, -28.2, -28.2))\n",
      "vector((-8.89, -3.36, -1.04), (-25.18, -25.18, -25.18))\n",
      "vector((-5.59, 2.67, -1.97), (-11.83, -11.83, -11.83))\n",
      "vector((5.53, 7.25, 2.82), (55.36, 55.36, 55.36))\n",
      "vector((-8.13, 8.41, 8.63), (5.29, 5.29, 5.29))\n",
      "vector((-5.4, 6.3, -0.58), (-0.11, -0.11, -0.11))\n",
      "vector((-8.6, -0.89, -3.33), (-25.86, -25.86, -25.86))\n",
      "vector((4.05, 4.51, -9.34), (0.12, 0.12, 0.12))\n",
      "vector((-6.03, -0.8, 5.97), (-1.31, -1.31, -1.31))\n",
      "vector((5.31, 4.9, -7.15), (3.12, 3.12, 3.12))\n"
     ]
    }
   ],
   "source": [
    "from random import random\n",
    "\n",
    "def random_triple():\n",
    "   return np.random.rand(3) * 20 - 10\n",
    "\n",
    "\n",
    "def plot_desmos(n=20):\n",
    "    for _ in range(n):\n",
    "        x_ef = random_triple()\n",
    "        pole = Pole([0, 0, 0], [0, 0, 10])  # Pole along the z-axis\n",
    "        repulsion_model = RepulsionModel(pole, x_ef, sample_size=5000, k=1)\n",
    "        print(f\"vector(({', '.join(map(str, x_ef.round(2)))}), ({', '.join(map(str, repulsion_model.repulsion_force.round(2)))}))\")\n",
    "\n",
    "plot_desmos()"
   ]
  },
  {
   "cell_type": "code",
   "execution_count": null,
   "metadata": {},
   "outputs": [
    {
     "data": {
      "text/plain": [
       "array([9.43672038, 8.45536316, 7.90586395])"
      ]
     },
     "execution_count": 152,
     "metadata": {},
     "output_type": "execute_result"
    }
   ],
   "source": [
    "repulsion_model(pole, np.array)"
   ]
  },
  {
   "cell_type": "code",
   "execution_count": null,
   "metadata": {},
   "outputs": [],
   "source": []
  }
 ],
 "metadata": {
  "kernelspec": {
   "display_name": "venv",
   "language": "python",
   "name": "python3"
  },
  "language_info": {
   "codemirror_mode": {
    "name": "ipython",
    "version": 3
   },
   "file_extension": ".py",
   "mimetype": "text/x-python",
   "name": "python",
   "nbconvert_exporter": "python",
   "pygments_lexer": "ipython3",
   "version": "3.10.11"
  }
 },
 "nbformat": 4,
 "nbformat_minor": 2
}
