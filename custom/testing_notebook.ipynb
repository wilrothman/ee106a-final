{
 "cells": [
  {
   "cell_type": "code",
   "execution_count": 1,
   "metadata": {},
   "outputs": [],
   "source": [
    "import numpy as np\n",
    "# import scipy as np"
   ]
  },
  {
   "cell_type": "code",
   "execution_count": 25,
   "metadata": {},
   "outputs": [],
   "source": [
    "\"\"\" \n",
    "    General data structures like twists and screws\n",
    "    @author Wil Louis Rothman\n",
    "    November 2024 - December 2024\n",
    "\"\"\"\n",
    "\n",
    "import numpy as np\n",
    "\n",
    "class Twist:\n",
    "    \"\"\"\n",
    "        General twist as defined in EECS C106A.\n",
    "\n",
    "        >>> v, omega = [3, 4, 5], [pi, pi/2, 0]\n",
    "        >>> xi = Twist(v, omega)\n",
    "        >>> xi\n",
    "        Twist(v = [3, 4, 5], ω = [pi, pi/2, 0])\n",
    "        >>> 2 * xi.as_array()\n",
    "        np.array([6, 8, 10, 2pi, pi, 0])\n",
    "        >>> 2 * xi.vector # same as previous\n",
    "        np.array([6, 8, 10, 2pi, pi, 0])\n",
    "\n",
    "    \"\"\"\n",
    "    def __init__(self, linear_velocity, angular_velocity):\n",
    "        linear_velocity, angular_velocity = list(linear_velocity), list(angular_velocity)\n",
    "\n",
    "        assert len(linear_velocity) == 3 and len(angular_velocity) == 3, \\\n",
    "            f\"linear and angular velocities must be 3D vectors, \\\n",
    "                instead got {linear_velocity} (length {len(linear_velocity)}) \\\n",
    "                    and {angular_velocity} (length {len(angular_velocity)})\"\n",
    "        \n",
    "        self.vector = np.array(list(linear_velocity) + list(angular_velocity))\n",
    "\n",
    "        assert np.issubdtype(self.vector.dtype, np.number), \\\n",
    "            \"linear and angular velocities must be representable by a \\\n",
    "                numerical value\"\n",
    "        \n",
    "    def __repr__(self):\n",
    "        return f\"Twist(v = {self.vector[:3]}, ω = {self.vector[3:]})\"\n",
    "\n",
    "    def as_array(self):\n",
    "        return self.vector\n",
    "    \n",
    "\n",
    "class Revolute(Twist):\n",
    "    \"\"\"\n",
    "        Pure rotation as defined in EECS C106A.\n",
    "        xi = [-ω x q    ω]^T\n",
    "        where omega := angular velocity\n",
    "        and       q := some point on rotation axis\n",
    "    \"\"\"\n",
    "    def __init__(self, omega, q):\n",
    "        super().__init__(-np.cross(omega, q), omega)\n",
    "\n",
    "class Prismatic(Twist):\n",
    "    \"\"\"\n",
    "        Pure translation as defined in EECS C106A.\n",
    "        xi = [v     0]^T\n",
    "        where v := linear velocity\n",
    "    \"\"\"\n",
    "    def __init__(self, v):\n",
    "        super().__init__(v, [0, 0, 0])\n",
    "\n",
    "class GeneralScrew(Twist):\n",
    "    \"\"\"\n",
    "        General screw motion as defined in EECS C106A.\n",
    "        xi = [-ω x q + hω   ω]^T\n",
    "        where h := is pitch\n",
    "    \"\"\"\n",
    "    def __init__(self, omega, q, h):\n",
    "        super().__init__(-np.cross(omega, q) + h * omega, omega)"
   ]
  },
  {
   "cell_type": "code",
   "execution_count": 26,
   "metadata": {},
   "outputs": [
    {
     "data": {
      "text/plain": [
       "Twist(v = [3. 4. 5.], ω = [3.14159265 1.57079633 0.        ])"
      ]
     },
     "execution_count": 26,
     "metadata": {},
     "output_type": "execute_result"
    }
   ],
   "source": [
    "v, omega = [3, 4, 5], [np.pi, np.pi/2, 0]\n",
    "xi = Twist(v, omega)\n",
    "xi"
   ]
  },
  {
   "cell_type": "code",
   "execution_count": 27,
   "metadata": {},
   "outputs": [
    {
     "data": {
      "text/plain": [
       "Twist(v = [-0.         -0.          1.57079633], ω = [0.         1.57079633 0.        ])"
      ]
     },
     "execution_count": 27,
     "metadata": {},
     "output_type": "execute_result"
    }
   ],
   "source": [
    "Revolute([0, np.pi / 2, 0], [1, 0, 0])"
   ]
  },
  {
   "cell_type": "code",
   "execution_count": 28,
   "metadata": {},
   "outputs": [
    {
     "data": {
      "text/plain": [
       "Twist(v = [3 4 5], ω = [0 0 0])"
      ]
     },
     "execution_count": 28,
     "metadata": {},
     "output_type": "execute_result"
    }
   ],
   "source": [
    "Prismatic([3, 4, 5])"
   ]
  },
  {
   "cell_type": "code",
   "execution_count": 29,
   "metadata": {},
   "outputs": [
    {
     "data": {
      "text/plain": [
       "Twist(v = [0.         1.57079633 0.        ], ω = [0.         1.57079633 0.        ])"
      ]
     },
     "execution_count": 29,
     "metadata": {},
     "output_type": "execute_result"
    }
   ],
   "source": [
    "GeneralScrew([0, np.pi / 2, 0], [0, 1, 0], 1)"
   ]
  },
  {
   "cell_type": "markdown",
   "metadata": {},
   "source": [
    "Repulsion model"
   ]
  },
  {
   "cell_type": "code",
   "execution_count": 30,
   "metadata": {},
   "outputs": [],
   "source": [
    "class Pole:\n",
    "    \"\"\"\n",
    "        Represents the pole. We are given two (unequal) points of the pole\n",
    "    \"\"\"\n",
    "    def __init__(self, q_pole1, q_pole2):\n",
    "        q_pole1, q_pole2 = list(q_pole1), list(q_pole2)\n",
    "        assert len(q_pole1) == 3 and len(q_pole2) == 3, f\"q_pole1 and q_pole2 must be 3D coordinates but instead got q1: {q_pole1} and q2: {q_pole2}\"\n",
    "        assert q_pole1 != q_pole2, f\"Cannot define pole line as q1 = q2 = {q_pole1}\"\n",
    "        self.q1, self.q2 = np.array(q_pole1), np.array(q_pole2)\n",
    "\n",
    "    def dist(self, p):\n",
    "        \"\"\" Outputs distance between the line representing the pole and 3D coordinate vector p \"\"\"\n",
    "        v = self.q2 - self.q1\n",
    "        w = p - self.q1\n",
    "        return np.linalg.norm(np.cross(w, v)) / np.linalg.norm(v)"
   ]
  },
  {
   "cell_type": "code",
   "execution_count": 31,
   "metadata": {},
   "outputs": [
    {
     "data": {
      "text/plain": [
       "np.float64(1.4142135623730951)"
      ]
     },
     "execution_count": 31,
     "metadata": {},
     "output_type": "execute_result"
    }
   ],
   "source": [
    "pole = Pole([0, 0, 0], [0, 0, 1])\n",
    "pole.dist([1, 1, 1])"
   ]
  },
  {
   "cell_type": "code",
   "execution_count": 32,
   "metadata": {},
   "outputs": [
    {
     "name": "stdout",
     "output_type": "stream",
     "text": [
      "Requirement already satisfied: scipy in c:\\users\\wil\\ee106a-final\\venv\\lib\\site-packages (1.14.1)\n",
      "Requirement already satisfied: numpy<2.3,>=1.23.5 in c:\\users\\wil\\ee106a-final\\venv\\lib\\site-packages (from scipy) (2.1.3)\n"
     ]
    },
    {
     "name": "stderr",
     "output_type": "stream",
     "text": [
      "WARNING: You are using pip version 21.1.2; however, version 24.3.1 is available.\n",
      "You should consider upgrading via the 'C:\\Users\\Wil\\ee106a-final\\venv\\Scripts\\python.exe -m pip install --upgrade pip' command.\n"
     ]
    }
   ],
   "source": [
    "!pip install scipy"
   ]
  },
  {
   "cell_type": "code",
   "execution_count": 75,
   "metadata": {},
   "outputs": [],
   "source": [
    "import numpy as np\n",
    "\n",
    "class Pole:\n",
    "    def __init__(self, base, tip):\n",
    "        self.base = np.array(base)\n",
    "        self.tip = np.array(tip)\n",
    "        self.direction = (self.tip - self.base) / np.linalg.norm(self.tip - self.base)\n",
    "\n",
    "class RepulsionModel:\n",
    "    def __init__(self, pole, x_ef, k=1):\n",
    "        self.pole = pole\n",
    "        self.x_ef = np.array(x_ef)\n",
    "        self.k = k\n",
    "\n",
    "    @property\n",
    "    def repulsion_force(self):\n",
    "        # Vector from pole base to x_ef\n",
    "        w = self.x_ef - self.pole.base\n",
    "\n",
    "        # Closest point on the pole\n",
    "        projection_length = np.dot(w, self.pole.direction)\n",
    "        closest_point = self.pole.base + projection_length * self.pole.direction\n",
    "\n",
    "        # Direction of repulsion\n",
    "        repulsion_vector = self.x_ef - closest_point\n",
    "        distance = np.linalg.norm(repulsion_vector)\n",
    "\n",
    "        # Handle edge case: avoid division by zero\n",
    "        if distance == 0:\n",
    "            return np.zeros_like(repulsion_vector)\n",
    "\n",
    "        # Repulsion force (inverse square law, scaled by k)\n",
    "        return (repulsion_vector / distance**3) * self.k\n"
   ]
  },
  {
   "cell_type": "code",
   "execution_count": 79,
   "metadata": {},
   "outputs": [
    {
     "name": "stdout",
     "output_type": "stream",
     "text": [
      "x_ef = [3, 0, 0], repulsion = [0.11111111 0.         0.        ]\n"
     ]
    }
   ],
   "source": [
    "pole = Pole([0, 0, 0], [0, 0, 1])  # Pole along the z-axis\n",
    "x_ef = [3, 0, 0]  # Point on the x-axis\n",
    "repulsion_model = RepulsionModel(pole, x_ef, k=1)\n",
    "force = repulsion_model.repulsion_force\n",
    "print(f\"x_ef = {x_ef}, repulsion = {force}\")\n"
   ]
  },
  {
   "cell_type": "code",
   "execution_count": 91,
   "metadata": {},
   "outputs": [
    {
     "data": {
      "text/plain": [
       "1.1"
      ]
     },
     "execution_count": 91,
     "metadata": {},
     "output_type": "execute_result"
    }
   ],
   "source": [
    "round(1.11, ndigits=1)"
   ]
  },
  {
   "cell_type": "code",
   "execution_count": 103,
   "metadata": {},
   "outputs": [
    {
     "name": "stdout",
     "output_type": "stream",
     "text": [
      "(-2.2, 8.6, 3.0)\n",
      "vector((0,0,0),\t [-1.17411021  1.192849   -0.01873879])\n",
      "(-7.9, -7.9, 1.0)\n",
      "vector((0,0,0),\t [-0.75280326 -0.7583975   1.51120076])\n",
      "(3.1, 3.5, -2.9)\n",
      "vector((0,0,0),\t [ 1.3881445   1.63036923 -3.01851372])\n",
      "(-0.2, -7.8, -2.4)\n",
      "vector((0,0,0),\t [ 1.88641954 -2.50682083  0.62040129])\n",
      "(7.7, -5.3, -3.6)\n",
      "vector((0,0,0),\t [ 0.80226318 -0.48340984 -0.31885334])\n",
      "(-7.3, -9.0, -9.3)\n",
      "vector((0,0,0),\t [ 36.78632769 -14.93346062 -21.85286707])\n",
      "(-8.1, -5.3, -2.6)\n",
      "vector((0,0,0),\t [-4.57786871  0.0144051   4.56346361])\n",
      "(4.0, 7.9, -6.3)\n",
      "vector((0,0,0),\t [ 0.18841419  0.53496459 -0.72337878])\n",
      "(-9.6, 2.4, -9.6)\n",
      "vector((0,0,0),\t [-0.41946835  0.83463033 -0.41516199])\n",
      "(-7.3, -4.2, -1.2)\n",
      "vector((0,0,0),\t [-3.83727929  0.0415325   3.79574679])\n"
     ]
    }
   ],
   "source": [
    "from math import *\n",
    "def random_triple():\n",
    "   return np.random.rand(3) * 20 - 10\n",
    "\n",
    "\n",
    "for _ in range(10):\n",
    "   x_ef = random_triple()\n",
    "   pole = Pole([0, 0, 0], [1, 1, 1])  # Pole along the z-axis\n",
    "   repulsion_model = RepulsionModel(pole, x_ef, k=100)\n",
    "   force = repulsion_model.repulsion_force\n",
    "   # print(f\"x_ef = {x_ef}, repulsion = {force}\")\n",
    "   x = []\n",
    "   for component in x_ef:\n",
    "      x.append(int(component * 10) / 10)\n",
    "   x = tuple(x)\n",
    "   print(x)\n",
    "\n",
    "   f = []\n",
    "   for component in force:\n",
    "      f.append(int(component * 1000000) / 1000000)\n",
    "   f = tuple(f)\n",
    "\n",
    "   print(f\"vector((0,0,0),\\t {force})\")"
   ]
  },
  {
   "cell_type": "code",
   "execution_count": 18,
   "metadata": {},
   "outputs": [
    {
     "data": {
      "text/plain": [
       "np.float64(0.002338540701304904)"
      ]
     },
     "execution_count": 18,
     "metadata": {},
     "output_type": "execute_result"
    }
   ],
   "source": [
    "repulsion_model.repulsion_force"
   ]
  },
  {
   "cell_type": "code",
   "execution_count": 36,
   "metadata": {},
   "outputs": [
    {
     "data": {
      "text/plain": [
       "array([ 2.152555  , -0.1117353 ,  0.93682594])"
      ]
     },
     "execution_count": 36,
     "metadata": {},
     "output_type": "execute_result"
    }
   ],
   "source": [
    "random_triple()"
   ]
  },
  {
   "cell_type": "code",
   "execution_count": 2,
   "metadata": {},
   "outputs": [
    {
     "data": {
      "text/plain": [
       "array([ 0.18212493, -0.79847025, -0.56233708, -0.24052621, -0.39596245,\n",
       "       -0.27561829, -0.29887131,  0.36209808, -0.5393991 , -0.78022411,\n",
       "       -0.69988856,  0.83886873, -0.02155887,  0.29459429,  0.20700091,\n",
       "        0.62789234, -0.09285226,  0.14347012,  0.33922324, -0.96767844,\n",
       "        0.25232249,  0.64496507,  0.56988907,  0.82275249, -0.07067283,\n",
       "        0.07678389,  0.30725388,  0.64558971, -0.19996274,  0.09133624,\n",
       "        0.7437071 ,  0.82706078, -0.52128678,  0.56009302, -0.65929406,\n",
       "        0.2781947 ,  0.62304281,  0.07105722, -0.87210293,  0.97430927,\n",
       "        0.65532858, -0.54417904, -0.63275631,  0.67268998,  0.34459065,\n",
       "        0.26137025,  0.02165842,  0.0882294 ,  0.331051  ,  0.65916129,\n",
       "       -0.26203777, -0.23509587,  0.56194072,  0.98674224,  0.4346377 ,\n",
       "       -0.93109444, -0.96038088, -0.10383338, -0.81988596, -0.34316155,\n",
       "       -0.05486885,  0.64613248,  0.90649673,  0.29740545,  0.50503888,\n",
       "        0.90160143,  0.15844354,  0.85230665,  0.30755766, -0.4146218 ,\n",
       "       -0.07556573,  0.54874984, -0.34659756, -0.92633892,  0.33322914,\n",
       "        0.21336646,  0.6736658 , -0.09888045, -0.88388967,  0.85907956,\n",
       "        0.90620053,  0.35744319, -0.00527533,  0.47492567,  0.30202331,\n",
       "        0.62623899, -0.96789935, -0.33019953,  0.21127431, -0.49149195,\n",
       "        0.41118548, -0.21933617, -0.22430108, -0.21822354,  0.17483994,\n",
       "        0.34468289, -0.2683755 , -0.12666805, -0.57594167, -0.17450739])"
      ]
     },
     "execution_count": 2,
     "metadata": {},
     "output_type": "execute_result"
    }
   ],
   "source": [
    "np.random.random(sample_size := 100) * 2 - 1 "
   ]
  },
  {
   "cell_type": "code",
   "execution_count": null,
   "metadata": {},
   "outputs": [],
   "source": []
  }
 ],
 "metadata": {
  "kernelspec": {
   "display_name": "venv",
   "language": "python",
   "name": "python3"
  },
  "language_info": {
   "codemirror_mode": {
    "name": "ipython",
    "version": 3
   },
   "file_extension": ".py",
   "mimetype": "text/x-python",
   "name": "python",
   "nbconvert_exporter": "python",
   "pygments_lexer": "ipython3",
   "version": "3.10.11"
  }
 },
 "nbformat": 4,
 "nbformat_minor": 2
}
