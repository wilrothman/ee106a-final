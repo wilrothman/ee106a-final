{
 "cells": [
  {
   "cell_type": "markdown",
   "metadata": {},
   "source": [
    "# Cache Test File"
   ]
  },
  {
   "cell_type": "code",
   "execution_count": null,
   "metadata": {},
   "outputs": [],
   "source": [
    "from cache import CacheHandler\n",
    "import random"
   ]
  },
  {
   "cell_type": "markdown",
   "metadata": {},
   "source": [
    "## Load"
   ]
  },
  {
   "cell_type": "code",
   "execution_count": 5,
   "metadata": {},
   "outputs": [
    {
     "name": "stdout",
     "output_type": "stream",
     "text": [
      "[CACHE] New handler instance created\n",
      "[CACHE] Cache file test_cache.json not found. Initializing an empty cache.\n"
     ]
    }
   ],
   "source": [
    "cache = CacheHandler('test_cache.json')\n",
    "cache.load()"
   ]
  },
  {
   "cell_type": "markdown",
   "metadata": {},
   "source": [
    "# Add"
   ]
  },
  {
   "cell_type": "code",
   "execution_count": 6,
   "metadata": {},
   "outputs": [
    {
     "data": {
      "text/plain": [
       "(0.7301192814368226, 0.094231086418051, 0.5692931631424611)"
      ]
     },
     "execution_count": 6,
     "metadata": {},
     "output_type": "execute_result"
    }
   ],
   "source": [
    "random_point = lambda: (random.random(), random.random(), random.random())\n",
    "random_point()"
   ]
  },
  {
   "cell_type": "code",
   "execution_count": 7,
   "metadata": {},
   "outputs": [
    {
     "name": "stdout",
     "output_type": "stream",
     "text": [
      "[CACHE] Added (0, 0, 0) -> [(0.7515623785904442, 0.10212208652600019, 0.6007108656674686), (0.6534219797212625, 0.6124044973547905, 0.3902948904440138), (0.11708087833175329, 0.3962566189670236, 0.5989847202990543), (0.0036510433421282906, 0.6893242702807576, 0.44716757141738295), (0.7643305151621752, 0.44644815270644733, 0.38278678176646874), (0.02054927372296267, 0.6993615349598018, 0.09555464496068511), (0.8802295665018296, 0.5618236282959711, 0.6193152373411519)]\n"
     ]
    }
   ],
   "source": [
    "goal1 = [0,0,0]\n",
    "waypoints1 = [random_point(), random_point(), random_point(), random_point(), random_point(), random_point(), random_point()]\n",
    "\n",
    "goal2 = [1,1,1]\n",
    "waypoints2 = [random_point(), random_point(), random_point(), random_point(), random_point(), random_point(), random_point()]\n",
    "\n",
    "\n",
    "goal3 = [1,1,1]\n",
    "waypoints3 = [random_point(), random_point(), random_point(), random_point(), random_point(), random_point(), random_point()]\n",
    "\n",
    "\n",
    "cache.add(goal_point=goal1, waypoints=waypoints1)"
   ]
  },
  {
   "cell_type": "code",
   "execution_count": 8,
   "metadata": {},
   "outputs": [
    {
     "name": "stdout",
     "output_type": "stream",
     "text": [
      "[CACHE] Added (1, 1, 1) -> [(0.30406722418553267, 0.8894621800716073, 0.022636247550987143), (0.675067680888516, 0.768259868869071, 0.843933988008365), (0.3001924485071352, 0.007319768205406585, 0.9770648512475583), (0.6070879110610977, 0.38755842762749826, 0.07059621347062317), (0.6341203409792545, 0.2238551193827234, 0.4735829178038541), (0.8809725139258674, 0.7692712940073881, 0.9153336647586007), (0.9164194324453798, 0.0975302690559785, 0.15637367999474938)]\n"
     ]
    }
   ],
   "source": [
    "cache.add(goal_point=goal2, waypoints=waypoints2)"
   ]
  },
  {
   "cell_type": "code",
   "execution_count": 9,
   "metadata": {},
   "outputs": [
    {
     "name": "stdout",
     "output_type": "stream",
     "text": [
      "[CACHE] Goal point (1, 1, 1) already exists. Overwritting waypoints...\n",
      "[CACHE] Added (1, 1, 1) -> [(0.3387921200945512, 0.7962076196335667, 0.31497593011043634), (0.9510364603885993, 0.022614280101682316, 0.6171542405716941), (0.6199139090795395, 0.7272321584697506, 0.4802629360015882), (0.06422831564144271, 0.35185870304250644, 0.781426903738931), (0.9087320462543604, 0.659910698244679, 0.45398278872039777), (0.3424244686419149, 0.7744925903425226, 0.644955479876932), (0.8785237914500139, 0.05805868890469046, 0.8472978518711213)]\n"
     ]
    }
   ],
   "source": [
    "cache.add(goal_point=goal3, waypoints=waypoints3)"
   ]
  },
  {
   "cell_type": "markdown",
   "metadata": {},
   "source": [
    "## Get"
   ]
  },
  {
   "cell_type": "code",
   "execution_count": 10,
   "metadata": {},
   "outputs": [
    {
     "name": "stdout",
     "output_type": "stream",
     "text": [
      "[CACHE] Closest key to [0, 0, 0]: (np.int64(0), np.int64(0), np.int64(0)) with distance 0.0\n"
     ]
    },
    {
     "data": {
      "text/plain": [
       "(np.int64(0), np.int64(0), np.int64(0))"
      ]
     },
     "execution_count": 10,
     "metadata": {},
     "output_type": "execute_result"
    }
   ],
   "source": [
    "cache.get([0, 0, 0])"
   ]
  },
  {
   "cell_type": "code",
   "execution_count": 11,
   "metadata": {},
   "outputs": [
    {
     "name": "stdout",
     "output_type": "stream",
     "text": [
      "[CACHE] Closest key to [2, 2, 2]: (np.int64(1), np.int64(1), np.int64(1)) with distance 1.7320508075688772\n"
     ]
    },
    {
     "data": {
      "text/plain": [
       "(np.int64(1), np.int64(1), np.int64(1))"
      ]
     },
     "execution_count": 11,
     "metadata": {},
     "output_type": "execute_result"
    }
   ],
   "source": [
    "cache.get([2, 2, 2])"
   ]
  },
  {
   "cell_type": "code",
   "execution_count": 12,
   "metadata": {},
   "outputs": [
    {
     "name": "stdout",
     "output_type": "stream",
     "text": [
      "[CACHE] Closest key to [0.5, 0.5, 0.6]: (np.int64(1), np.int64(1), np.int64(1)) with distance 0.812403840463596\n"
     ]
    },
    {
     "data": {
      "text/plain": [
       "(np.int64(1), np.int64(1), np.int64(1))"
      ]
     },
     "execution_count": 12,
     "metadata": {},
     "output_type": "execute_result"
    }
   ],
   "source": [
    "cache.get([.5, .5, .6])"
   ]
  },
  {
   "cell_type": "markdown",
   "metadata": {},
   "source": [
    "## Save"
   ]
  },
  {
   "cell_type": "code",
   "execution_count": 13,
   "metadata": {},
   "outputs": [
    {
     "name": "stdout",
     "output_type": "stream",
     "text": [
      "[CACHE] Wrote cache to test_cache.json\n"
     ]
    }
   ],
   "source": [
    "cache.save()"
   ]
  },
  {
   "cell_type": "markdown",
   "metadata": {},
   "source": [
    "# Load from save"
   ]
  },
  {
   "cell_type": "code",
   "execution_count": 16,
   "metadata": {},
   "outputs": [
    {
     "name": "stdout",
     "output_type": "stream",
     "text": [
      "[CACHE] New handler instance created\n",
      "[CACHE] Loaded cache from test_cache.json\n"
     ]
    },
    {
     "data": {
      "text/plain": [
       "{(0, 0, 0): [[0.7515623785904442, 0.10212208652600019, 0.6007108656674686],\n",
       "  [0.6534219797212625, 0.6124044973547905, 0.3902948904440138],\n",
       "  [0.11708087833175329, 0.3962566189670236, 0.5989847202990543],\n",
       "  [0.0036510433421282906, 0.6893242702807576, 0.44716757141738295],\n",
       "  [0.7643305151621752, 0.44644815270644733, 0.38278678176646874],\n",
       "  [0.02054927372296267, 0.6993615349598018, 0.09555464496068511],\n",
       "  [0.8802295665018296, 0.5618236282959711, 0.6193152373411519]],\n",
       " (1, 1, 1): [[0.3387921200945512, 0.7962076196335667, 0.31497593011043634],\n",
       "  [0.9510364603885993, 0.022614280101682316, 0.6171542405716941],\n",
       "  [0.6199139090795395, 0.7272321584697506, 0.4802629360015882],\n",
       "  [0.06422831564144271, 0.35185870304250644, 0.781426903738931],\n",
       "  [0.9087320462543604, 0.659910698244679, 0.45398278872039777],\n",
       "  [0.3424244686419149, 0.7744925903425226, 0.644955479876932],\n",
       "  [0.8785237914500139, 0.05805868890469046, 0.8472978518711213]]}"
      ]
     },
     "execution_count": 16,
     "metadata": {},
     "output_type": "execute_result"
    }
   ],
   "source": [
    "new_cache = CacheHandler('test_cache.json')\n",
    "new_cache.load()\n",
    "new_cache.cache"
   ]
  }
 ],
 "metadata": {
  "kernelspec": {
   "display_name": "venv",
   "language": "python",
   "name": "python3"
  },
  "language_info": {
   "codemirror_mode": {
    "name": "ipython",
    "version": 3
   },
   "file_extension": ".py",
   "mimetype": "text/x-python",
   "name": "python",
   "nbconvert_exporter": "python",
   "pygments_lexer": "ipython3",
   "version": "3.10.11"
  }
 },
 "nbformat": 4,
 "nbformat_minor": 2
}
