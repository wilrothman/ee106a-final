{
 "cells": [
  {
   "cell_type": "markdown",
   "metadata": {},
   "source": [
    "# Cache Test File"
   ]
  },
  {
   "cell_type": "code",
   "execution_count": 1,
   "metadata": {},
   "outputs": [],
   "source": [
    "from cache import CacheHandler\n",
    "import random"
   ]
  },
  {
   "cell_type": "markdown",
   "metadata": {},
   "source": [
    "## Load"
   ]
  },
  {
   "cell_type": "code",
   "execution_count": 2,
   "metadata": {},
   "outputs": [
    {
     "name": "stdout",
     "output_type": "stream",
     "text": [
      "[CACHE] New handler instance created\n",
      "[CACHE] Loaded cache from test_cache.json\n"
     ]
    }
   ],
   "source": [
    "cache = CacheHandler('test_cache.json')\n",
    "cache.load()"
   ]
  },
  {
   "cell_type": "markdown",
   "metadata": {},
   "source": [
    "# Add"
   ]
  },
  {
   "cell_type": "code",
   "execution_count": 3,
   "metadata": {},
   "outputs": [
    {
     "data": {
      "text/plain": [
       "(0.25972371185899334, 0.8362791664369016, 0.20932822087957614)"
      ]
     },
     "execution_count": 3,
     "metadata": {},
     "output_type": "execute_result"
    }
   ],
   "source": [
    "random_point = lambda: (random.random(), random.random(), random.random())\n",
    "random_point()"
   ]
  },
  {
   "cell_type": "code",
   "execution_count": 4,
   "metadata": {},
   "outputs": [
    {
     "name": "stdout",
     "output_type": "stream",
     "text": [
      "[CACHE] Goal point (0, 0, 0) already exists. Overwritting waypoints...\n",
      "[CACHE] Added (0, 0, 0) -> [(0.19780106455022595, 0.013682573568300493, 0.8727513918158339), (0.38526703927116246, 0.7735308532267879, 0.8672864869538365), (0.5471694145574313, 0.24450727138773676, 0.7173112641502136), (0.5897627686201311, 0.44521306249010495, 0.8397333300384854), (0.8136587619367305, 0.5043356931935227, 0.8867759632113179), (0.07532880182110036, 0.18158710386487376, 0.9573116743126489), (0.4599361049769136, 0.28403532987749314, 0.5258580135568488)]\n"
     ]
    }
   ],
   "source": [
    "goal1 = [0,0,0]\n",
    "waypoints1 = [random_point(), random_point(), random_point(), random_point(), random_point(), random_point(), random_point()]\n",
    "\n",
    "goal2 = [1,1,1]\n",
    "waypoints2 = [random_point(), random_point(), random_point(), random_point(), random_point(), random_point(), random_point()]\n",
    "\n",
    "\n",
    "goal3 = [1,1,1]\n",
    "waypoints3 = [random_point(), random_point(), random_point(), random_point(), random_point(), random_point(), random_point()]\n",
    "\n",
    "\n",
    "cache.add(goal_point=goal1, waypoints=waypoints1)"
   ]
  },
  {
   "cell_type": "code",
   "execution_count": 5,
   "metadata": {},
   "outputs": [
    {
     "name": "stdout",
     "output_type": "stream",
     "text": [
      "[CACHE] Goal point (1, 1, 1) already exists. Overwritting waypoints...\n",
      "[CACHE] Added (1, 1, 1) -> [(0.37108417740330557, 0.14408154675470441, 0.8723510953827566), (0.3957757681094777, 0.9190366214713439, 0.5383785125871198), (0.06691803440314004, 0.7355733606647975, 0.9439211308925121), (0.861767180176666, 0.2415617532565697, 0.8337701969466348), (0.5195387424752196, 0.10003775549445404, 0.9858093839447553), (0.9198459325420215, 0.6591631078974101, 0.5574005393124909), (0.23026542410242856, 0.6403807814034076, 0.39323406439782316)]\n"
     ]
    }
   ],
   "source": [
    "cache.add(goal_point=goal2, waypoints=waypoints2)"
   ]
  },
  {
   "cell_type": "code",
   "execution_count": 6,
   "metadata": {},
   "outputs": [
    {
     "name": "stdout",
     "output_type": "stream",
     "text": [
      "[CACHE] Goal point (1, 1, 1) already exists. Overwritting waypoints...\n",
      "[CACHE] Added (1, 1, 1) -> [(0.012677719595184156, 0.8268024310098172, 0.30635418201258147), (0.6210811847715708, 0.07150315407216623, 0.4857577419909703), (0.2864906019114355, 0.9646704036254911, 0.35615996667607597), (0.9667823928287375, 0.27747763706867445, 0.2778847677985048), (0.6811861679586733, 0.7331477420878459, 0.6321392688300187), (0.6811632659165873, 0.7716937952450136, 0.4386681703890811), (0.7630728610272451, 0.8478861182336985, 0.1752761887796801)]\n"
     ]
    }
   ],
   "source": [
    "cache.add(goal_point=goal3, waypoints=waypoints3)"
   ]
  },
  {
   "cell_type": "markdown",
   "metadata": {},
   "source": [
    "## Get"
   ]
  },
  {
   "cell_type": "code",
   "execution_count": 7,
   "metadata": {},
   "outputs": [
    {
     "name": "stdout",
     "output_type": "stream",
     "text": [
      "[CACHE] Closest key to [0, 0, 0]: (0, 0, 0) with distance 0.0\n"
     ]
    },
    {
     "data": {
      "text/plain": [
       "(0, 0, 0)"
      ]
     },
     "execution_count": 7,
     "metadata": {},
     "output_type": "execute_result"
    }
   ],
   "source": [
    "cache.get([0, 0, 0])"
   ]
  },
  {
   "cell_type": "code",
   "execution_count": 8,
   "metadata": {},
   "outputs": [
    {
     "name": "stdout",
     "output_type": "stream",
     "text": [
      "[CACHE] Closest key to [2, 2, 2]: (1, 1, 1) with distance 1.7320508075688772\n"
     ]
    },
    {
     "data": {
      "text/plain": [
       "(1, 1, 1)"
      ]
     },
     "execution_count": 8,
     "metadata": {},
     "output_type": "execute_result"
    }
   ],
   "source": [
    "cache.get([2, 2, 2])"
   ]
  },
  {
   "cell_type": "code",
   "execution_count": 9,
   "metadata": {},
   "outputs": [
    {
     "name": "stdout",
     "output_type": "stream",
     "text": [
      "[CACHE] Closest key to [0.5, 0.5, 0.6]: (1, 1, 1) with distance 0.812403840463596\n"
     ]
    },
    {
     "data": {
      "text/plain": [
       "(1, 1, 1)"
      ]
     },
     "execution_count": 9,
     "metadata": {},
     "output_type": "execute_result"
    }
   ],
   "source": [
    "cache.get([.5, .5, .6])"
   ]
  },
  {
   "cell_type": "markdown",
   "metadata": {},
   "source": [
    "## Save"
   ]
  },
  {
   "cell_type": "code",
   "execution_count": 10,
   "metadata": {},
   "outputs": [
    {
     "name": "stdout",
     "output_type": "stream",
     "text": [
      "[CACHE] Wrote cache to test_cache.json\n"
     ]
    }
   ],
   "source": [
    "cache.save()"
   ]
  },
  {
   "cell_type": "markdown",
   "metadata": {},
   "source": [
    "# Load from save"
   ]
  },
  {
   "cell_type": "code",
   "execution_count": 11,
   "metadata": {},
   "outputs": [
    {
     "name": "stdout",
     "output_type": "stream",
     "text": [
      "[CACHE] New handler instance created\n",
      "[CACHE] Loaded cache from test_cache.json\n"
     ]
    },
    {
     "data": {
      "text/plain": [
       "{(0, 0, 0): [[0.19780106455022595, 0.013682573568300493, 0.8727513918158339],\n",
       "  [0.38526703927116246, 0.7735308532267879, 0.8672864869538365],\n",
       "  [0.5471694145574313, 0.24450727138773676, 0.7173112641502136],\n",
       "  [0.5897627686201311, 0.44521306249010495, 0.8397333300384854],\n",
       "  [0.8136587619367305, 0.5043356931935227, 0.8867759632113179],\n",
       "  [0.07532880182110036, 0.18158710386487376, 0.9573116743126489],\n",
       "  [0.4599361049769136, 0.28403532987749314, 0.5258580135568488]],\n",
       " (1, 1, 1): [[0.012677719595184156, 0.8268024310098172, 0.30635418201258147],\n",
       "  [0.6210811847715708, 0.07150315407216623, 0.4857577419909703],\n",
       "  [0.2864906019114355, 0.9646704036254911, 0.35615996667607597],\n",
       "  [0.9667823928287375, 0.27747763706867445, 0.2778847677985048],\n",
       "  [0.6811861679586733, 0.7331477420878459, 0.6321392688300187],\n",
       "  [0.6811632659165873, 0.7716937952450136, 0.4386681703890811],\n",
       "  [0.7630728610272451, 0.8478861182336985, 0.1752761887796801]]}"
      ]
     },
     "execution_count": 11,
     "metadata": {},
     "output_type": "execute_result"
    }
   ],
   "source": [
    "new_cache = CacheHandler('test_cache.json')\n",
    "new_cache.load()\n",
    "new_cache.cache"
   ]
  },
  {
   "cell_type": "code",
   "execution_count": null,
   "metadata": {},
   "outputs": [],
   "source": []
  }
 ],
 "metadata": {
  "kernelspec": {
   "display_name": "usr",
   "language": "python",
   "name": "python3"
  },
  "language_info": {
   "codemirror_mode": {
    "name": "ipython",
    "version": 3
   },
   "file_extension": ".py",
   "mimetype": "text/x-python",
   "name": "python",
   "nbconvert_exporter": "python",
   "pygments_lexer": "ipython3",
   "version": "3.8.10"
  }
 },
 "nbformat": 4,
 "nbformat_minor": 2
}
